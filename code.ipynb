{
  "nbformat": 4,
  "nbformat_minor": 0,
  "metadata": {
    "colab": {
      "name": "Copy of Untitled0.ipynb",
      "provenance": [],
      "collapsed_sections": [
        "d20eRJ8a53iN",
        "iqVMz9EG20Uq",
        "rKf375yj25mf",
        "v8WOV-R8-wbk",
        "Xubgkpe5w3Bv"
      ],
      "toc_visible": true
    },
    "kernelspec": {
      "name": "python3",
      "display_name": "Python 3"
    },
    "language_info": {
      "name": "python"
    }
  },
  "cells": [
    {
      "cell_type": "markdown",
      "metadata": {
        "id": "8lG717iJCOmO"
      },
      "source": [
        "\n",
        "|             Name            |    ID    |       Part      |\n",
        "|:---------------------------:|:--------:|:---------------:|\n",
        "| Ahmed Mohamed Abdel-Rashied | 20180028 | Fuzzification   |\n",
        "| Ahmed Rushdi El-Kilany      | 20180008 | Fuzzy inference |\n",
        "| Eslam Nasser Abdelqader     | 20180047 | Defuzzification |"
      ]
    },
    {
      "cell_type": "markdown",
      "metadata": {
        "id": "d20eRJ8a53iN"
      },
      "source": [
        "#Inputs"
      ]
    },
    {
      "cell_type": "code",
      "metadata": {
        "id": "Vas64RVM6T1j"
      },
      "source": [
        "nose_crisp = 10\n",
        "teeth_crisp = 10\n",
        "lips_crisp = 10\n",
        "forehead_crisp = 10\n",
        "eyebrows_crisp = 10\n",
        "cheeks_crisp = 10\n",
        "eyes_crisp = 10\n",
        "chin_crisp = 10"
      ],
      "execution_count": 1,
      "outputs": []
    },
    {
      "cell_type": "markdown",
      "metadata": {
        "id": "iqVMz9EG20Uq"
      },
      "source": [
        "#Fuzzification\n"
      ]
    },
    {
      "cell_type": "code",
      "metadata": {
        "id": "QIjgEnK65UY0",
        "colab": {
          "base_uri": "https://localhost:8080/"
        },
        "outputId": "a5adadbc-6dc9-4dce-8680-730f1fe5e3c0"
      },
      "source": [
        "!pip install -U scikit-fuzzy\n",
        "import numpy as np\n",
        "import matplotlib.pyplot as plt\n",
        "import skfuzzy as fuzz\n",
        "from skfuzzy import control as ctrl\n",
        "from math import sqrt"
      ],
      "execution_count": 2,
      "outputs": [
        {
          "output_type": "stream",
          "text": [
            "Requirement already up-to-date: scikit-fuzzy in /usr/local/lib/python3.7/dist-packages (0.4.2)\n",
            "Requirement already satisfied, skipping upgrade: numpy>=1.6.0 in /usr/local/lib/python3.7/dist-packages (from scikit-fuzzy) (1.19.5)\n",
            "Requirement already satisfied, skipping upgrade: scipy>=0.9.0 in /usr/local/lib/python3.7/dist-packages (from scikit-fuzzy) (1.4.1)\n",
            "Requirement already satisfied, skipping upgrade: networkx>=1.9.0 in /usr/local/lib/python3.7/dist-packages (from scikit-fuzzy) (2.5.1)\n",
            "Requirement already satisfied, skipping upgrade: decorator<5,>=4.3 in /usr/local/lib/python3.7/dist-packages (from networkx>=1.9.0->scikit-fuzzy) (4.4.2)\n"
          ],
          "name": "stdout"
        }
      ]
    },
    {
      "cell_type": "markdown",
      "metadata": {
        "id": "GLTcqvFp3bSW"
      },
      "source": [
        "## Nose"
      ]
    },
    {
      "cell_type": "code",
      "metadata": {
        "id": "hMmtsvzmmP-u"
      },
      "source": [
        "def nose_fuzzifier(value):\n",
        "  counter_wrinkled=1/20\n",
        "  wrinkled=np.zeros(60)\n",
        "  for i in range(60):\n",
        "    if i <40:\n",
        "      wrinkled[i]=1\n",
        "    else:\n",
        "      wrinkled[i-1]=round(wrinkled[i-1],3)\n",
        "      wrinkled[i]=wrinkled[i-1]-counter_wrinkled\n",
        "  normal=np.array(list(reversed(wrinkled)))\n",
        "  if value <60:\n",
        "    fuzzy1=wrinkled[value]\n",
        "  else:\n",
        "    fuzzy1=0\n",
        "  if value>= 40 and value<100:\n",
        "    fuzzy2=normal[value-40]\n",
        "  elif value<40:\n",
        "    fuzzy2=0\n",
        "  else:\n",
        "    fuzzy2=1\n",
        "  return fuzzy1,fuzzy2\n"
      ],
      "execution_count": 3,
      "outputs": []
    },
    {
      "cell_type": "markdown",
      "metadata": {
        "id": "_LRhWOe13flJ"
      },
      "source": [
        "## Teeth"
      ]
    },
    {
      "cell_type": "code",
      "metadata": {
        "id": "1RE3ZkirmUTf"
      },
      "source": [
        "def teeth_fuzzifier(value):\n",
        "  not_visible=np.zeros(30)\n",
        "  for i in range(30):\n",
        "    if i <10:\n",
        "      not_visible[i]=1\n",
        "    else:\n",
        "      not_visible[i-1]=round(not_visible[i-1],3)\n",
        "      not_visible[i]=not_visible[i-1]-1/20\n",
        "  normal=np.zeros(60)\n",
        "  for i in range(60):\n",
        "    if i <= 30:\n",
        "      if i ==0:\n",
        "        normal[i]=0\n",
        "      else:  \n",
        "        normal[i-1]=round(normal[i-1],3)\n",
        "        normal[i]=normal[i-1]+ 1/30\n",
        "    else:\n",
        "      normal[i-1]=round(normal[i-1],3)\n",
        "      normal[i]=normal[i-1]- 1/30\n",
        "  open=np.zeros(30)\n",
        "  for i in range(30):\n",
        "    if i<20:\n",
        "      if i== 0:\n",
        "        open[i]=0\n",
        "      else:\n",
        "        open[i-1]=round(open[i-1],3)\n",
        "        open[i]=open[i-1]+1/20\n",
        "    else:\n",
        "      open[i]=1\n",
        "\n",
        "    if value <30:\n",
        "      fuzzy1=not_visible[value]\n",
        "    else:\n",
        "      fuzzy1=0\n",
        "    if value>= 10 and value<70:\n",
        "      fuzzy2=normal[value-10]\n",
        "    else:\n",
        "      fuzzy2=0\n",
        "    if value >=50 and value <80:\n",
        "      fuzzy3=open[value-50]\n",
        "    elif value<50:\n",
        "      fuzzy3=0\n",
        "    else:\n",
        "      fuzzy3=1\n",
        "  return fuzzy1,fuzzy2,fuzzy3\n"
      ],
      "execution_count": 4,
      "outputs": []
    },
    {
      "cell_type": "markdown",
      "metadata": {
        "id": "9hWpW6Oq3h79"
      },
      "source": [
        "## Lips"
      ]
    },
    {
      "cell_type": "code",
      "metadata": {
        "id": "h07SRvC9mdc9"
      },
      "source": [
        "def lips_fuzzifier(value):\n",
        "  closed=np.zeros(30)\n",
        "  for i in range(30):\n",
        "    if i <10:\n",
        "      closed[i]=1\n",
        "    else:\n",
        "      closed[i-1]=round(closed[i-1],3)\n",
        "      closed[i]=closed[i-1]-1/20\n",
        "  normal=np.zeros(60)\n",
        "  for i in range(60):\n",
        "    if i <= 30:\n",
        "      if i ==0:\n",
        "        normal[i]=0\n",
        "      else:  \n",
        "        normal[i-1]=round(normal[i-1],3)\n",
        "        normal[i]=normal[i-1]+ 1/30\n",
        "    else:\n",
        "      normal[i-1]=round(normal[i-1],3)\n",
        "      normal[i]=normal[i-1]- 1/30\n",
        "  open=np.zeros(30)\n",
        "  for i in range(30):\n",
        "    if i<20:\n",
        "      if i== 0:\n",
        "        open[i]=0\n",
        "      else:\n",
        "        open[i-1]=round(open[i-1],3)\n",
        "        open[i]=open[i-1]+1/20\n",
        "    else:\n",
        "      open[i]=1\n",
        "\n",
        "    if value <30:\n",
        "      fuzzy1=closed[value]\n",
        "    else:\n",
        "      fuzzy1=0\n",
        "    if value>= 10 and value<70:\n",
        "      fuzzy2=normal[value-10]\n",
        "    else:\n",
        "      fuzzy2=0\n",
        "    if value >=50 and value <80:\n",
        "      fuzzy3=open[value-50]\n",
        "    elif value<50:\n",
        "      fuzzy3=0\n",
        "    else:\n",
        "      fuzzy3=1\n",
        "  return fuzzy1,fuzzy2,fuzzy3"
      ],
      "execution_count": 5,
      "outputs": []
    },
    {
      "cell_type": "markdown",
      "metadata": {
        "id": "Lc-mjk5V3kB6"
      },
      "source": [
        "## Forehead"
      ]
    },
    {
      "cell_type": "code",
      "metadata": {
        "id": "_2A6TynEmhV6"
      },
      "source": [
        "def forehead_fuzzifier(value):\n",
        "  small=np.zeros(4)\n",
        "  for i in range(4):\n",
        "    if i <2:\n",
        "      small[i]=1\n",
        "    else:\n",
        "      small[i-1]=round(small[i-1],3)\n",
        "      small[i]=small[i-1]-1/2\n",
        "  normal=np.zeros(13)\n",
        "  for i in range(13):\n",
        "    if i < 7:\n",
        "      if i ==0:\n",
        "        normal[i]=0\n",
        "      else:  \n",
        "        normal[i-1]=round(normal[i-1],3)\n",
        "        normal[i]=normal[i-1]+ 1/7\n",
        "    elif i==7:\n",
        "      normal[i]=1\n",
        "    else:\n",
        "      normal[i-1]=round(normal[i-1],3)\n",
        "      normal[i]=normal[i-1]- 1/6\n",
        "  bigger=np.zeros(10)\n",
        "  for i in range(10):\n",
        "    if i<5:\n",
        "      if i== 0:\n",
        "        bigger[i]=0\n",
        "      else:\n",
        "        bigger[i-1]=round(bigger[i-1],3)\n",
        "        bigger[i]=bigger[i-1]+1/20\n",
        "    else:\n",
        "      bigger[i]=1\n",
        "\n",
        "    if value <4:\n",
        "      fuzzy1=small[value]\n",
        "    else:\n",
        "      fuzzy1=0\n",
        "    if value>= 2 and value<15:\n",
        "      fuzzy2=normal[value-2]\n",
        "    else:\n",
        "      fuzzy2=0\n",
        "    if value >=10 and value <20:\n",
        "      fuzzy3=bigger[value-10]\n",
        "    elif value<10:\n",
        "      fuzzy3=0\n",
        "    else:\n",
        "      fuzzy3=1\n",
        "  return fuzzy1,fuzzy2,fuzzy3\n"
      ],
      "execution_count": 6,
      "outputs": []
    },
    {
      "cell_type": "markdown",
      "metadata": {
        "id": "QTX4tuhD3mQj"
      },
      "source": [
        "## Eyebrows"
      ]
    },
    {
      "cell_type": "code",
      "metadata": {
        "id": "SD63ihenmm71"
      },
      "source": [
        "def eyebrows_fuzzifier(value):\n",
        "  centerd=np.zeros(20)\n",
        "  for i in range(20):\n",
        "    if i <10:\n",
        "      centerd[i]=1\n",
        "    else:\n",
        "      centerd[i-1]=round(centerd[i-1],3)\n",
        "      centerd[i]=centerd[i-1]-1/10\n",
        "  normal=np.zeros(50)\n",
        "  for i in range(50):\n",
        "    if i <= 25:\n",
        "      if i ==0:\n",
        "        normal[i]=0\n",
        "      else:  \n",
        "        normal[i-1]=round(normal[i-1],3)\n",
        "        normal[i]=normal[i-1]+ 1/25\n",
        "    else:\n",
        "      normal[i-1]=round(normal[i-1],3)\n",
        "      normal[i]=normal[-i]\n",
        "  outward=np.zeros(30)\n",
        "  for i in range(30):\n",
        "    if i<20:\n",
        "      if i== 0:\n",
        "        outward[i]=0\n",
        "      else:\n",
        "        outward[i-1]=round(outward[i-1],3)\n",
        "        outward[i]=outward[i-1]+1/20\n",
        "    else:\n",
        "      outward[i]=1\n",
        "\n",
        "    if value <20:\n",
        "      fuzzy1=centerd[value]\n",
        "    else:\n",
        "      fuzzy1=0\n",
        "    if value>= 10 and value<60:\n",
        "      fuzzy2=normal[value-10]\n",
        "    else:\n",
        "      fuzzy2=0\n",
        "    if value >=40 and value <70:\n",
        "      fuzzy3=open[value-40]\n",
        "    elif value<40:\n",
        "      fuzzy3=0\n",
        "    else:\n",
        "      fuzzy3=1\n",
        "  return fuzzy1,fuzzy2,fuzzy3\n"
      ],
      "execution_count": 7,
      "outputs": []
    },
    {
      "cell_type": "markdown",
      "metadata": {
        "id": "L7S-FYp03o1U"
      },
      "source": [
        "## Cheeks"
      ]
    },
    {
      "cell_type": "code",
      "metadata": {
        "colab": {
          "base_uri": "https://localhost:8080/"
        },
        "id": "No-KkUz9mrx0",
        "outputId": "775166bf-4949-4161-c433-afb486e5e779"
      },
      "source": [
        "def cheeks_fuzzifier(value):\n",
        "  flat=np.zeros(20)\n",
        "  for i in range(20):\n",
        "    if i <10:\n",
        "      flat[i]=1\n",
        "    else:\n",
        "      flat[i-1]=round(flat[i-1],3)\n",
        "      flat[i]=flat[i-1]-1/10\n",
        "  normal=np.zeros(50)\n",
        "  for i in range(50):\n",
        "    if i <= 25:\n",
        "      if i ==0:\n",
        "        normal[i]=0\n",
        "      else:  \n",
        "        normal[i-1]=round(normal[i-1],3)\n",
        "        normal[i]=normal[i-1]+ 1/25\n",
        "    else:\n",
        "      normal[i-1]=round(normal[i-1],3)\n",
        "      normal[i]=normal[-i]\n",
        "  filled=np.zeros(30)\n",
        "  for i in range(30):\n",
        "    if i<20:\n",
        "      if i== 0:\n",
        "        filled[i]=0\n",
        "      else:\n",
        "        filled[i-1]=round(filled[i-1],3)\n",
        "        filled[i]=filled[i-1]+1/20\n",
        "    else:\n",
        "      filled[i]=1\n",
        "    if value <20:\n",
        "      fuzzy1=flat[value]\n",
        "    else:\n",
        "      fuzzy1=0\n",
        "    if value>= 10 and value<60:\n",
        "      fuzzy2=normal[value-10]\n",
        "    else:\n",
        "      fuzzy2=0\n",
        "    if value >=40 and value <70:\n",
        "      fuzzy3=filled[value-40]\n",
        "    elif value<40:\n",
        "      fuzzy3=0\n",
        "    else:\n",
        "      fuzzy3=1\n",
        "  return fuzzy1,fuzzy2,fuzzy3\n",
        "cheeks_fuzzifier(50)"
      ],
      "execution_count": 8,
      "outputs": [
        {
          "output_type": "execute_result",
          "data": {
            "text/plain": [
              "(0, 0.4, 0.5)"
            ]
          },
          "metadata": {
            "tags": []
          },
          "execution_count": 8
        }
      ]
    },
    {
      "cell_type": "markdown",
      "metadata": {
        "id": "DVJmVAeV3rg6"
      },
      "source": [
        "## Eyes"
      ]
    },
    {
      "cell_type": "code",
      "metadata": {
        "id": "6T5DeYxFmxCS"
      },
      "source": [
        "def eye_fuzzifier(value):\n",
        "  pressed=np.zeros(10)\n",
        "  for i in range(10):\n",
        "    if i <5:\n",
        "      pressed[i]=1\n",
        "    else:\n",
        "      pressed[i-1]=round(pressed[i-1],3)\n",
        "      pressed[i]=pressed[i-1]-1/5\n",
        "  closed=np.zeros(25)\n",
        "  for i in range(25):\n",
        "    if i <= 13:\n",
        "      if i ==0:\n",
        "        closed[i]=0\n",
        "      else:  \n",
        "        closed[i-1]=round(closed[i-1],3)\n",
        "        closed[i]=closed[i-1]+ 1/13\n",
        "    else:\n",
        "      closed[i-1]=round(closed[i-1],3)\n",
        "      closed[i]=closed[-i]\n",
        "  normal=np.zeros(50)\n",
        "  for i in range(50):\n",
        "    if i <= 25:\n",
        "      if i ==0:\n",
        "        normal[i]=0\n",
        "      else:  \n",
        "        normal[i-1]=round(normal[i-1],3)\n",
        "        normal[i]=normal[i-1]+ 1/25\n",
        "    else:\n",
        "      normal[i-1]=round(normal[i-1],3)\n",
        "      normal[i]=normal[-i]\n",
        "    \n",
        "  extra=np.zeros(30)\n",
        "  for i in range(30):\n",
        "    if i<20:\n",
        "      if i== 0:\n",
        "        extra[i]=0\n",
        "      else:\n",
        "        extra[i-1]=round(extra[i-1],3)\n",
        "        extra[i]=extra[i-1]+1/20\n",
        "    else:\n",
        "      extra[i]=1\n",
        "    if value <10:\n",
        "      fuzzy1=pressed[value]\n",
        "    else:\n",
        "      fuzzy1=0\n",
        "    if value>= 5 and value<30:\n",
        "      fuzzy2=closed[value-5]\n",
        "    else:\n",
        "      fuzzy2=0\n",
        "    if value>= 20 and value<70:\n",
        "      fuzzy3=normal[value-20]\n",
        "    else:\n",
        "      fuzzy3=0\n",
        "    if value >=50 and value <80:\n",
        "      fuzzy4=extra[value-50]\n",
        "    elif value<50:\n",
        "      fuzzy4=0\n",
        "    else:\n",
        "      fuzzy4=1\n",
        "  return fuzzy1,fuzzy2,fuzzy3,fuzzy4\n"
      ],
      "execution_count": 9,
      "outputs": []
    },
    {
      "cell_type": "markdown",
      "metadata": {
        "id": "4f0pcTZP3yqM"
      },
      "source": [
        "##Chin"
      ]
    },
    {
      "cell_type": "code",
      "metadata": {
        "id": "IxsqAFoim2mI"
      },
      "source": [
        "def chin_fuzzifier(value):\n",
        "  counter_wrinkled=1/20\n",
        "  normal=np.zeros(60)\n",
        "  for i in range(60):\n",
        "    if i <40:\n",
        "      normal[i]=1\n",
        "    else:\n",
        "      normal[i-1]=round(normal[i-1],3)\n",
        "      normal[i]=normal[i-1]-counter_wrinkled\n",
        "  radical=np.array(list(reversed(normal)))\n",
        "  if value <60:\n",
        "    fuzzy1=normal[value]\n",
        "  else:\n",
        "    fuzzy1=0\n",
        "  if value>= 40 and value<100:\n",
        "    fuzzy2=radical[value-40]\n",
        "  elif value<40:\n",
        "    fuzzy2=0\n",
        "  else:\n",
        "    fuzzy2=1\n",
        "  return fuzzy1,fuzzy2\n"
      ],
      "execution_count": 10,
      "outputs": []
    },
    {
      "cell_type": "markdown",
      "metadata": {
        "id": "rKf375yj25mf"
      },
      "source": [
        "#Fuzzy Inference"
      ]
    },
    {
      "cell_type": "markdown",
      "metadata": {
        "id": "42UMj1Sm3AhN"
      },
      "source": [
        "## Rules"
      ]
    },
    {
      "cell_type": "markdown",
      "metadata": {
        "id": "-nIHzk5f5T3A"
      },
      "source": [
        "### If cheeks Up ˄ Teeth Slightly Out ˄ Lips open Then Happy"
      ]
    },
    {
      "cell_type": "code",
      "metadata": {
        "id": "6_Q4hvOz5bMa",
        "colab": {
          "base_uri": "https://localhost:8080/"
        },
        "outputId": "29025dd8-b757-43b7-ac78-627812e5e818"
      },
      "source": [
        "happy = [cheeks_fuzzifier(cheeks_crisp)[2],teeth_fuzzifier(teeth_crisp)[1],lips_fuzzifier(lips_crisp)[2]]\n",
        "happy_value = min(happy)\n",
        "happy"
      ],
      "execution_count": 11,
      "outputs": [
        {
          "output_type": "execute_result",
          "data": {
            "text/plain": [
              "[0, 0.0, 0]"
            ]
          },
          "metadata": {
            "tags": []
          },
          "execution_count": 11
        }
      ]
    },
    {
      "cell_type": "markdown",
      "metadata": {
        "id": "succqG4d4CQd"
      },
      "source": [
        "###If Eyebrows Centered ˄ Lips Normal ˄ cheeks Flat Then Sad"
      ]
    },
    {
      "cell_type": "code",
      "metadata": {
        "id": "DcTOWB_v4ICG",
        "colab": {
          "base_uri": "https://localhost:8080/"
        },
        "outputId": "e4acd10a-d996-4fd3-ec15-d65a3c4c6800"
      },
      "source": [
        "sad = [eyebrows_fuzzifier(eyebrows_crisp)[0],lips_fuzzifier(lips_crisp)[0],cheeks_fuzzifier(cheeks_crisp)[0]]\n",
        "sad_value = min(sad)\n",
        "sad"
      ],
      "execution_count": 12,
      "outputs": [
        {
          "output_type": "execute_result",
          "data": {
            "text/plain": [
              "[0.9, 0.95, 0.9]"
            ]
          },
          "metadata": {
            "tags": []
          },
          "execution_count": 12
        }
      ]
    },
    {
      "cell_type": "markdown",
      "metadata": {
        "id": "rc7ncbCL4Iw6"
      },
      "source": [
        "### If Eyebrows Centered ˄ Lips Pressed-closed ˄ cheeks Flat ˄ Teeth Not-visible Then Angry"
      ]
    },
    {
      "cell_type": "code",
      "metadata": {
        "id": "d7ylLGoZ4M2f",
        "colab": {
          "base_uri": "https://localhost:8080/"
        },
        "outputId": "cfc60526-ab18-4440-b719-fc64bea65ba5"
      },
      "source": [
        "angry = [eyebrows_fuzzifier(eyebrows_crisp)[0],lips_fuzzifier(lips_crisp)[0],cheeks_fuzzifier(cheeks_crisp)[0],teeth_fuzzifier(teeth_crisp)[0]]\n",
        "angry_value = min(angry)\n",
        "angry"
      ],
      "execution_count": 13,
      "outputs": [
        {
          "output_type": "execute_result",
          "data": {
            "text/plain": [
              "[0.9, 0.95, 0.9, 0.95]"
            ]
          },
          "metadata": {
            "tags": []
          },
          "execution_count": 13
        }
      ]
    },
    {
      "cell_type": "markdown",
      "metadata": {
        "id": "nvJrhx7M4NXm"
      },
      "source": [
        "###If Eye extra open ˄ Lips open ˄ Eyebrows Outward- Stretched Then Surprise"
      ]
    },
    {
      "cell_type": "code",
      "metadata": {
        "id": "llvC450i4Q7e",
        "colab": {
          "base_uri": "https://localhost:8080/"
        },
        "outputId": "aa6bec59-36aa-4f96-a3b1-354a0cc5c997"
      },
      "source": [
        "surprise = [eye_fuzzifier(eyes_crisp)[3],lips_fuzzifier(lips_crisp)[2],eyebrows_fuzzifier(eyebrows_crisp)[2]]\n",
        "surprise_value = min(surprise)\n",
        "surprise"
      ],
      "execution_count": 14,
      "outputs": [
        {
          "output_type": "execute_result",
          "data": {
            "text/plain": [
              "[0, 0, 0]"
            ]
          },
          "metadata": {
            "tags": []
          },
          "execution_count": 14
        }
      ]
    },
    {
      "cell_type": "markdown",
      "metadata": {
        "id": "VBBnVOy34WG9"
      },
      "source": [
        "###If Eyebrows Normal ˄ Lips Normal ˄ cheeks Flat ˄ Eye Normal open Then Normal"
      ]
    },
    {
      "cell_type": "code",
      "metadata": {
        "id": "pMyedVfj4XoP",
        "colab": {
          "base_uri": "https://localhost:8080/"
        },
        "outputId": "dfae4d35-bb35-43b9-be7f-a03fd1146068"
      },
      "source": [
        "normal = [eyebrows_fuzzifier(eyebrows_crisp)[1],lips_fuzzifier(lips_crisp)[1],cheeks_fuzzifier(cheeks_crisp)[0],eye_fuzzifier(eyes_crisp)[2]]\n",
        "normal_value = min(normal)\n",
        "normal"
      ],
      "execution_count": 15,
      "outputs": [
        {
          "output_type": "execute_result",
          "data": {
            "text/plain": [
              "[0.0, 0.0, 0.9, 0]"
            ]
          },
          "metadata": {
            "tags": []
          },
          "execution_count": 15
        }
      ]
    },
    {
      "cell_type": "markdown",
      "metadata": {
        "id": "YC07ru9B4Ys0"
      },
      "source": [
        "### If Eyebrows Outward-Stretched ˄ cheeks Normal ˄ Eyes Extra-open ˄ Lips Open Then Fear"
      ]
    },
    {
      "cell_type": "code",
      "metadata": {
        "id": "HnlkKQdX4bat",
        "colab": {
          "base_uri": "https://localhost:8080/"
        },
        "outputId": "8acb73bc-a9a3-4880-895c-7353f2eeba43"
      },
      "source": [
        "fear = [eyebrows_fuzzifier(eyebrows_crisp)[2],cheeks_fuzzifier(cheeks_crisp)[1],eye_fuzzifier(eyes_crisp)[3],lips_fuzzifier(lips_crisp)[2]]\n",
        "fear_value = min(fear)\n",
        "fear"
      ],
      "execution_count": 16,
      "outputs": [
        {
          "output_type": "execute_result",
          "data": {
            "text/plain": [
              "[0, 0.0, 0, 0]"
            ]
          },
          "metadata": {
            "tags": []
          },
          "execution_count": 16
        }
      ]
    },
    {
      "cell_type": "markdown",
      "metadata": {
        "id": "zw01ub9v4byE"
      },
      "source": [
        "###If Eyebrows Centered ˄ cheeks Up ˄ nose wrinkled Then Disgust"
      ]
    },
    {
      "cell_type": "code",
      "metadata": {
        "id": "KPqe0z4i4dre",
        "colab": {
          "base_uri": "https://localhost:8080/"
        },
        "outputId": "4dea12e9-9410-47bb-fb26-db0f60b66a5b"
      },
      "source": [
        "disgust = [eyebrows_fuzzifier(eyebrows_crisp)[0],cheeks_fuzzifier(cheeks_crisp)[2],nose_fuzzifier(nose_crisp)[0]]\n",
        "disgust_value = min(disgust)\n",
        "disgust"
      ],
      "execution_count": 17,
      "outputs": [
        {
          "output_type": "execute_result",
          "data": {
            "text/plain": [
              "[0.9, 0, 1.0]"
            ]
          },
          "metadata": {
            "tags": []
          },
          "execution_count": 17
        }
      ]
    },
    {
      "cell_type": "markdown",
      "metadata": {
        "id": "ozTZcC2wAY6R"
      },
      "source": [
        "##Center of gravity"
      ]
    },
    {
      "cell_type": "code",
      "metadata": {
        "id": "w2xYTSJ7AeHQ",
        "colab": {
          "base_uri": "https://localhost:8080/"
        },
        "outputId": "9b6a2bff-c875-4129-d1dc-64593ba70a60"
      },
      "source": [
        "output_membership = [angry_value,disgust_value,sad_value,normal_value,happy_value,surprise_value,fear_value]\n",
        "if not any(output_membership):\n",
        "  result = False\n",
        "output_membership"
      ],
      "execution_count": 18,
      "outputs": [
        {
          "output_type": "execute_result",
          "data": {
            "text/plain": [
              "[0.9, 0, 0.9, 0.0, 0, 0, 0]"
            ]
          },
          "metadata": {
            "tags": []
          },
          "execution_count": 18
        }
      ]
    },
    {
      "cell_type": "markdown",
      "metadata": {
        "id": "P4S_tmB8Hj-W"
      },
      "source": [
        "### Build output membership functions"
      ]
    },
    {
      "cell_type": "code",
      "metadata": {
        "id": "eJc0ZnXrWKew"
      },
      "source": [
        "def centroid_trapezium(o,a,b,c):\n",
        "  t1 = a**2 + b**2 + a*b + b*c + 2*a*c\n",
        "  t2 = 3*(a+b)\n",
        "  return o + (t1/t2)\n",
        "\n",
        "def anger_area(value):\n",
        "  c = 0\n",
        "  base = 6\n",
        "  slope_length = sqrt(base**2 + 1**2)\n",
        "  right_side = slope_length * value #traingle ratio \n",
        "  left_side = value\n",
        "  top_side = (1-value) * base  # * base\n",
        "  if value != 0:\n",
        "    d_from_o = sqrt( left_side**2 - value**2)\n",
        "    c = centroid_trapezium(4,top_side,base,d_from_o)\n",
        "  return (((top_side + base)/2)*value , c) #A=(a+b/2)*h\n",
        "\n",
        "def disgust_area(value):\n",
        "  c = 0\n",
        "  base = 20\n",
        "  slope_length = sqrt(base**2 + 1**2)\n",
        "  right_side = slope_length * value #traingle ratio \n",
        "  left_side = slope_length * value\n",
        "  top_side = (1-value) * base  # * base\n",
        "  if value != 0:\n",
        "    d_from_o = sqrt( left_side**2 - value**2)\n",
        "    c = centroid_trapezium(5,top_side,base,d_from_o)\n",
        "  return (((top_side + base)/2)*value , c)\n",
        "\n",
        "def sad_area(value):\n",
        "  c = 0\n",
        "  base = 20\n",
        "  slope_length = sqrt(base**2 + 1**2)\n",
        "  right_side = slope_length * value #traingle ratio \n",
        "  left_side = slope_length * value\n",
        "  top_side = (1-value) * base  # * base\n",
        "  if value != 0:\n",
        "    d_from_o = sqrt( left_side**2 - value**2)\n",
        "    c = centroid_trapezium(15,top_side,base,d_from_o)\n",
        "  return (((top_side + base)/2)*value , c)\n",
        "\n",
        "def normal_area(value):\n",
        "  c = 0\n",
        "  base = 20\n",
        "  slope_length = sqrt(base**2 + 1**2)\n",
        "  right_side = slope_length * value #traingle ratio \n",
        "  left_side = slope_length * value\n",
        "  top_side = (1-value) * base  # * base\n",
        "  if value != 0:\n",
        "    d_from_o = sqrt( left_side**2 - value**2)\n",
        "    c = centroid_trapezium(30,top_side,base,d_from_o)\n",
        "  return (((top_side + base)/2)*value , c)\n",
        "\n",
        "def happy_area(value):\n",
        "  c = 0\n",
        "  base = 15\n",
        "  slope_length = sqrt(base**2 + 1**2)\n",
        "  right_side = slope_length * value #traingle ratio \n",
        "  left_side = slope_length * value\n",
        "  top_side = (1-value) * base  # * base\n",
        "  if value != 0:\n",
        "    d_from_o = sqrt( left_side**2 - value**2)\n",
        "    c = centroid_trapezium(45,top_side,base,d_from_o)\n",
        "  return (((top_side + base)/2)*value , c)\n",
        "\n",
        "def surprise_area(value):\n",
        "  c = 0\n",
        "  base = 20\n",
        "  slope_length = sqrt(base**2 + 1**2)\n",
        "  right_side = slope_length * value #traingle ratio \n",
        "  left_side = slope_length * value\n",
        "  top_side = (1-value) * base  # * base\n",
        "  if value != 0:\n",
        "    d_from_o = sqrt( left_side**2 - value**2)\n",
        "    c = centroid_trapezium(55,top_side,base,d_from_o)\n",
        "  return (((top_side + base)/2)*value , c)\n",
        "\n",
        "def fear_area(value):\n",
        "  c = 0\n",
        "  base = 10\n",
        "  slope_length = sqrt(base**2 + 1**2)\n",
        "  right_side = value \n",
        "  left_side = slope_length * value #traingle ratio \n",
        "  top_side = (1-value) * base  # * base\n",
        "  if value != 0:\n",
        "    d_from_o = sqrt( left_side**2 - value**2)\n",
        "    c = centroid_trapezium(70,top_side,base,d_from_o)\n",
        "  return (((top_side + base)/2)*value , c)\n",
        "\n"
      ],
      "execution_count": 19,
      "outputs": []
    },
    {
      "cell_type": "code",
      "metadata": {
        "id": "-1UiMXmge4at"
      },
      "source": [
        "def areas(op):\n",
        "  return [anger_area(op[0]),disgust_area(op[1]),sad_area(op[2]),normal_area(op[3]),happy_area(op[4]),surprise_area(op[5]),fear_area(op[6])]"
      ],
      "execution_count": 20,
      "outputs": []
    },
    {
      "cell_type": "markdown",
      "metadata": {
        "id": "v8WOV-R8-wbk"
      },
      "source": [
        "#Defuzzification"
      ]
    },
    {
      "cell_type": "code",
      "metadata": {
        "id": "DWtf1-gIwwRn"
      },
      "source": [
        "def defuzzification(inferenceSet):\n",
        "  multiplier = (inferenceSet[0][0]*inferenceSet[0][1]) + (inferenceSet[1][0]*inferenceSet[1][1]) + (inferenceSet[2][0]*inferenceSet[2][1]) + (inferenceSet[3][0]*inferenceSet[3][1])+ (inferenceSet[4][0]*inferenceSet[4][1])+ (inferenceSet[5][0]*inferenceSet[5][1])+ (inferenceSet[6][0]*inferenceSet[6][1])\n",
        "  divider = inferenceSet[0][0] + inferenceSet[1][0] + inferenceSet[2][0]+ (inferenceSet[3][0])+ (inferenceSet[4][0])+ (inferenceSet[5][0])+ (inferenceSet[6][0])\n",
        "  return multiplier/divider\n",
        "  "
      ],
      "execution_count": 21,
      "outputs": []
    },
    {
      "cell_type": "code",
      "metadata": {
        "colab": {
          "base_uri": "https://localhost:8080/"
        },
        "id": "S7k1F9T9w6XZ",
        "outputId": "33dab477-a390-4d2d-b022-ed6107ed7c24"
      },
      "source": [
        "inf_set = areas(output_membership)\n",
        "inf_set"
      ],
      "execution_count": 22,
      "outputs": [
        {
          "output_type": "execute_result",
          "data": {
            "text/plain": [
              "[(2.9699999999999998, 6.0181818181818185),\n",
              " (0.0, 0),\n",
              " (9.9, 28.272727272727273),\n",
              " (0.0, 0),\n",
              " (0.0, 0),\n",
              " (0.0, 0),\n",
              " (0.0, 0)]"
            ]
          },
          "metadata": {
            "tags": []
          },
          "execution_count": 22
        }
      ]
    },
    {
      "cell_type": "markdown",
      "metadata": {
        "id": "KBpZnPPJ-uHU"
      },
      "source": [
        ""
      ]
    },
    {
      "cell_type": "code",
      "metadata": {
        "colab": {
          "base_uri": "https://localhost:8080/"
        },
        "id": "xW18L4dX1uaY",
        "outputId": "b566d1f4-a6eb-4774-f546-0e8607199375"
      },
      "source": [
        "defuzzification(inf_set)"
      ],
      "execution_count": 23,
      "outputs": [
        {
          "output_type": "execute_result",
          "data": {
            "text/plain": [
              "23.13706293706294"
            ]
          },
          "metadata": {
            "tags": []
          },
          "execution_count": 23
        }
      ]
    },
    {
      "cell_type": "markdown",
      "metadata": {
        "id": "Xubgkpe5w3Bv"
      },
      "source": [
        "#Discarded"
      ]
    },
    {
      "cell_type": "code",
      "metadata": {
        "id": "D-DHm4w4wyzh"
      },
      "source": [
        "# nose = ctrl.Antecedent(np.arange(0,100,0.1),'nose')\n",
        "# teeth = ctrl.Antecedent(np.arange(0,100,0.1),'teeth')\n",
        "# lips = ctrl.Antecedent(np.arange(0,100,0.1),'lips')\n",
        "# forehead = ctrl.Antecedent(np.arange(0,25,0.1),'forehead')\n",
        "# eyebrows = ctrl.Antecedent(np.arange(0,100,0.1),'eyebrows')\n",
        "# eyes = ctrl.Antecedent(np.arange(0,100,0.1),'eyes')\n",
        "# cheeks = ctrl.Antecedent(np.arange(0,100,0.1),'cheeks')\n",
        "# chin = ctrl.Antecedent(np.arange(0,100,0.1),'chin')\n",
        "\n",
        "# nose[\"Wrinkled\"] = fuzz.trimf(nose.universe,[0,40,60])\n",
        "# nose[\"Normal\"] = fuzz.trimf(nose.universe,[40,60,100])\n",
        "\n",
        "# teeth[\"Not-visible\"] = fuzz.trimf(teeth.universe,[0,10,30])\n",
        "# teeth[\"Slightly-out\"] = fuzz.trimf(teeth.universe,[10,40,70])\n",
        "# teeth[\"Extra-open\"] = fuzz.trimf(teeth.universe,[50,80,100])\\\n",
        "\n",
        "# lips[\"Pressed-closed\"] = fuzz.trimf(lips.universe,[0,10,30])\n",
        "# lips[\"Normal\"] = fuzz.trimf(lips.universe,[10,40,70])\n",
        "# lips[\"Open\"] = fuzz.trimf(lips.universe,[50,80,100])\n",
        "\n",
        "# forehead[\"Down & small\"] = fuzz.trimf(forehead.universe,[0,2,4])\n",
        "# forehead[\"Normal\"] = fuzz.trimf(forehead.universe,[2,8.5,15])\n",
        "# forehead[\"Stretched & bigger\"] = fuzz.trimf(forehead.universe,[10,20,25])\n",
        "\n",
        "# eyebrows[\"Centered\"] = fuzz.trimf(eyebrows.universe,[0,10,20])\n",
        "# eyebrows[\"Normal\"] = fuzz.trimf(eyebrows.universe,[10,35,60])\n",
        "# eyebrows[\"Outward-stretched\"] = fuzz.trimf(eyebrows.universe,[40,70,100])\n",
        "\n",
        "# eyes[\"Pressed-closed\"] = fuzz.trimf(eyes.universe,[0,5,10])\n",
        "# eyes[\"Closed\"] = fuzz.trimf(eyes.universe,[5,15,30])\n",
        "# eyes[\"Normal-open\"] = fuzz.trimf(eyes.universe,[20,45,70])\n",
        "# eyes[\"Extra-open\"] = fuzz.trimf(eyes.universe,[50,80,100])\n",
        "\n",
        "# cheeks[\"Flat & stretched\"] = fuzz.trimf(cheeks.universe,[0,10,20])\n",
        "# cheeks[\"Normal\"] = fuzz.trimf(cheeks.universe,[10,35,60])\n",
        "# cheeks[\"Filled & Up\"] = fuzz.trimf(cheeks.universe,[40,70,100])\n",
        "\n",
        "# chin[\"Normal\"] = fuzz.trimf(chin.universe,[0,40,60])\n",
        "# chin[\"Radical\"] = fuzz.trimf(chin.universe,[40,60,100])\n"
      ],
      "execution_count": 24,
      "outputs": []
    },
    {
      "cell_type": "code",
      "metadata": {
        "id": "L6iFY2TQMfLU"
      },
      "source": [
        "# expression =  ctrl.Consequent(np.arange(0,80,0.1),\"expression\")\n",
        "# expression['Anger'] = fuzz.trimf(expression.universe,[0,5,10])\n",
        "# expression['Disgust'] = fuzz.trimf(expression.universe,[5,15,25])\n",
        "# expression['Sad'] = fuzz.trimf(expression.universe,[15,25,35])\n",
        "# expression['Normal'] = fuzz.trimf(expression.universe,[30,40,50])\n",
        "# expression['Happy'] = fuzz.trimf(expression.universe,[45,52.5,60])\n",
        "# expression['Surprise'] = fuzz.trimf(expression.universe,[55,65,75])\n",
        "# expression['Fear'] = fuzz.trimf(expression.universe,[70,75,80])"
      ],
      "execution_count": 25,
      "outputs": []
    },
    {
      "cell_type": "code",
      "metadata": {
        "id": "Td9-ls8qHhzg"
      },
      "source": [
        "# rule1 = ctrl.Rule(cheeks[\"Filled & Up\"] & teeth[\"Slightly-out\"] & lips[\"Open\"], expression['Happy'])\n",
        "# rule2 = ctrl.Rule(eyebrows[\"Centered\"] & lips[\"Normal\"] & cheeks[\"Flat & stretched\"], expression['Sad'])\n",
        "# rule3 = ctrl.Rule(eyebrows[\"Centered\"] & lips[\"Pressed-closed\"] & cheeks[\"Flat & stretched\"] & teeth[\"Not-visible\"], expression['Anger'])\n",
        "# rule4 = ctrl.Rule(eyes[\"Extra-open\"] & lips[\"Open\"] & eyebrows[\"Outward-stretched\"], expression['Surprise'])\n",
        "# rule5 = ctrl.Rule(eyebrows[\"Normal\"] & lips[\"Normal\"] & cheeks[\"Flat & stretched\"] & eyes[\"Normal-open\"] & chin[\"Normal\"], expression['Normal'])\n",
        "# rule6 = ctrl.Rule(eyebrows[\"Outward-stretched\"] & cheeks[\"Normal\"] & eyes[\"Extra-open\"] & lips[\"Open\"] & forehead[\"Stretched & bigger\"], expression['Fear'])\n",
        "# rule7 = ctrl.Rule(eyebrows[\"Centered\"] & cheeks[\"Filled & Up\"] & nose[\"Wrinkled\"], expression['Disgust'])"
      ],
      "execution_count": 26,
      "outputs": []
    },
    {
      "cell_type": "code",
      "metadata": {
        "id": "EmMAWEdGi47F"
      },
      "source": [
        "# system = ctrl.ControlSystem([rule1, rule2, rule3, rule4, rule5, rule6, rule7])\n",
        "# system_sim = ctrl.ControlSystemSimulation(system)"
      ],
      "execution_count": 27,
      "outputs": []
    },
    {
      "cell_type": "code",
      "metadata": {
        "id": "iYcXDn8ejlOZ"
      },
      "source": [
        "# system_sim.input['nose'] = nose_crisp\n",
        "# system_sim.input['teeth'] = teeth_crisp\n",
        "# system_sim.input['lips'] = lips_crisp\n",
        "# system_sim.input['forehead'] = forehead_crisp\n",
        "# system_sim.input['eyebrows'] = eyebrows_crisp\n",
        "# system_sim.input['cheeks'] = cheeks_crisp\n",
        "# system_sim.input['eyes'] = eyes_crisp\n",
        "# system_sim.input['chin'] = chin_crisp\n",
        "\n",
        "# system_sim.compute()"
      ],
      "execution_count": 28,
      "outputs": []
    }
  ]
}